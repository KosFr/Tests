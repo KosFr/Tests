{
  "nbformat": 4,
  "nbformat_minor": 0,
  "metadata": {
    "colab": {
      "provenance": []
    },
    "kernelspec": {
      "name": "python3",
      "display_name": "Python 3"
    },
    "language_info": {
      "name": "python"
    }
  },
  "cells": [
    {
      "cell_type": "markdown",
      "source": [
        "# Технезис, Junior аналитик данных, Тестовое задание"
      ],
      "metadata": {
        "id": "ytHvH1xsehSq"
      }
    },
    {
      "cell_type": "markdown",
      "source": [
        "Подготовил: Фролов Константин\n",
        "\n",
        "Дата последнего обновления: 26.10.2023"
      ],
      "metadata": {
        "id": "2fggqoskhWni"
      }
    },
    {
      "cell_type": "markdown",
      "source": [
        "## ТЗ"
      ],
      "metadata": {
        "id": "tLdXIKG6Agq-"
      }
    },
    {
      "cell_type": "markdown",
      "source": [
        "**Задание**\n",
        "\n",
        "Необходимо обработать сырые данные поступившие от парсера.\n",
        "\n",
        "**Описание данных**\n",
        "\n",
        "В файле hotels_parsing_result.xlsx содержатся данные о гостиницах от двух разных платформ в одном регионе (вкладки platform1, platform2).\n",
        "\n",
        "| Поле | Описание |\n",
        "| --- | --- |\n",
        "| id                                          | Идентификатор в БД                                        |\n",
        "| create_time                                 | Дата создания                                            |\n",
        "| title                                       | Название                                                 |\n",
        "| hotel_type_original                         | Тип гостиницы                                            |\n",
        "| city                                       | Город                                                    |\n",
        "| address                                     | Адрес                                                    |\n",
        "| rating                                     | Рейтинг                                                  |\n",
        "| rating_5                                   | Рейтинг по 5-ти бальной шкале                            |\n",
        "| review_count                               | Количество отзывов                                       |\n",
        "| star_rating                                | Звездность                                               |\n",
        "| rooms_count                                | Количество номеров                                       |\n",
        "| contact_social                             | Контакты соц. сетей                                      |\n",
        "| description                                | Описание                                                 |\n",
        "| email                                      | email строкой, несколько значений через запятую          |\n",
        "| phone                                      | телефон строкой, несколько значений через запятую       |\n",
        "| website                                    | сайты строкой, несколько значений через запятую        |\n",
        "| uid                                        | Уникальный идентификатор гостиницы на платформе, не может быть разным у одной гостиницы, и не может повторятся у разных гостиниц, но в рамках одной платформы |\n",
        "| parsing_time                               | Время сбора                                             |\n",
        "| lat                                        | Широта                                                  |\n",
        "| lon                                        | Долгота                                                 |\n",
        "\n",
        "**Состав данных**\n",
        "\n",
        "- Записи могут повторятся, и самые актуальные данные идут в конце;\n",
        "- Если какое-то поле по конкретной гостинице пустое в последней записи, но встречалось ранее, то необходимо его взять из более ранних записей;\n",
        "- Поля телефона, email, сайтов могу содержать лишние символы, несколько записей и прочее;\n",
        "- Формат записи названия, адреса, типа гостиницы отличается в разных платформах.\n",
        "\n",
        "\n",
        "**Задача**\n",
        "\n",
        "1. Собрать от каждой платформы финальный список гостиниц, в котором по каждой гостинице внутри платформы будет только одна запись с самыми актуальными и полными данными;\n",
        "2. Почистить данные\n",
        "3. Поля телефона, email, сайтов распарсить и сохранить как списки в одинаковом формате (address@domen.org, 79234553322, domen.ru)\n",
        "4. Вывести топ 10 по каждой платформе, по параметрам:\n",
        "  1. больше всего телефонов;\n",
        "  2. больше всего отзывов.\n",
        "5. Вывести квадрат координат размером 1км на 1км, где больше всего гостиниц\n",
        "6. Задача со *, объединить данные от двух платформ, по критерию который вы придумаете:\n",
        "  1. Вывести все гостиницы, которые есть в платформе 1 и нет в платформе 2;\n",
        "  2. Вывести топ 10 гостиниц которые есть в обоих платформах, по суммарному количеству отзывов.\n"
      ],
      "metadata": {
        "id": "NzENvuILAkTy"
      }
    },
    {
      "cell_type": "markdown",
      "source": [
        "## Получение данных"
      ],
      "metadata": {
        "id": "U6_0TAp53BCy"
      }
    },
    {
      "cell_type": "markdown",
      "source": [
        "Файл requirments.txt доступен по [ссылке](https://drive.usercontent.google.com/download?id=1KoxJTW4nS2sg0CZYkRX2vA-aA9jAmKFL&export=download&authuser=0&confirm=t&uuid=87a4e8b9-46cf-46bd-aa3a-f062186e3af5&at=APZUnTUDyVNAoonNOh0eoo1xt-kI:1698308626458)."
      ],
      "metadata": {
        "id": "sVpu-UYqFKBR"
      }
    },
    {
      "cell_type": "code",
      "source": [
        "import pandas as pd\n",
        "import numpy as np\n",
        "import json\n",
        "import plotly.graph_objects as go"
      ],
      "metadata": {
        "id": "jXH6SYtq3g8g"
      },
      "execution_count": null,
      "outputs": []
    },
    {
      "cell_type": "code",
      "source": [
        "url = 'https://drive.usercontent.google.com/download?id=1SKiomla8fy5tPs56i123eYcXig0Npn_3&export=download&authuser=0&confirm=t&uuid=0704ea4c-510d-4bb4-98b0-768fd4aed0a1&at=APZUnTXla0qMtmvNHBEPxmFcWAxq:1698246899680'\n",
        "\n",
        "xls = pd.ExcelFile(url)\n",
        "df1 = pd.read_excel(xls, 'platform1')\n",
        "df2 = pd.read_excel(xls, 'platfrom2') # опечатка в названии вкладки"
      ],
      "metadata": {
        "id": "Ak9eckP73DGD"
      },
      "execution_count": null,
      "outputs": []
    },
    {
      "cell_type": "markdown",
      "source": [
        "1. Посмотрим на данные из первого источника."
      ],
      "metadata": {
        "id": "cLkvOlS03_jS"
      }
    },
    {
      "cell_type": "code",
      "source": [
        "df1.info()"
      ],
      "metadata": {
        "id": "8Wgom8nz3087"
      },
      "execution_count": null,
      "outputs": []
    },
    {
      "cell_type": "code",
      "source": [
        "df1.head()"
      ],
      "metadata": {
        "id": "rbH_Cikz32_F"
      },
      "execution_count": null,
      "outputs": []
    },
    {
      "cell_type": "markdown",
      "source": [
        "2. Посмотрим на данные из второго источника."
      ],
      "metadata": {
        "id": "7ywDubjn4FAK"
      }
    },
    {
      "cell_type": "code",
      "source": [
        "df2.info()"
      ],
      "metadata": {
        "id": "vcCnya7f71yg"
      },
      "execution_count": null,
      "outputs": []
    },
    {
      "cell_type": "code",
      "source": [
        "df2.head()"
      ],
      "metadata": {
        "id": "-bjosa5874Ee"
      },
      "execution_count": null,
      "outputs": []
    },
    {
      "cell_type": "markdown",
      "source": [
        "3. Посмотрим, о каком количестве гостиниц имеется информация в каждом из случаев."
      ],
      "metadata": {
        "id": "ijn0qFvsSqXy"
      }
    },
    {
      "cell_type": "code",
      "source": [
        "df1['uid'].nunique()"
      ],
      "metadata": {
        "id": "p8m4INtNSEsJ"
      },
      "execution_count": null,
      "outputs": []
    },
    {
      "cell_type": "code",
      "source": [
        "df2['uid'].nunique()"
      ],
      "metadata": {
        "id": "TRpeH7MeSHsc"
      },
      "execution_count": null,
      "outputs": []
    },
    {
      "cell_type": "markdown",
      "source": [
        "4. Первые выводы:\n",
        "- Нужно привести типы данных к одному виду в обеих таблицах (касается столбцов 8, 12-16);\n",
        "- Нужно преобразовать столбцы со временем для корректной работы (столбцы 1, 18)."
      ],
      "metadata": {
        "id": "tCrSuiE-8QGm"
      }
    },
    {
      "cell_type": "markdown",
      "source": [
        "## Предобработка данных"
      ],
      "metadata": {
        "id": "mwOVcpil27T8"
      }
    },
    {
      "cell_type": "markdown",
      "source": [
        "### Типы данных"
      ],
      "metadata": {
        "id": "5TGZcpl_AD9r"
      }
    },
    {
      "cell_type": "code",
      "source": [
        "# Преобразование к общим типам\n",
        "df1['review_count'] = df1['review_count'].dropna().astype('float')\n",
        "df1[\n",
        "    ['contact_social',\n",
        "     'description',\n",
        "     'email',\n",
        "     'phone',\n",
        "     'website']] = df1[\n",
        "        ['contact_social',\n",
        "         'description',\n",
        "         'email',\n",
        "         'phone',\n",
        "         'website']\n",
        "        ].astype('str')\n",
        "\n",
        "# Преобразование столбцов со временем\n",
        "for i in ['create_time', 'parsing_time']:\n",
        "    df1[i] = pd.to_datetime(\n",
        "        df1[i], format='%Y-%m-%d %H:%M:%S.%f' #2023-09-14 15:46:42.672665\n",
        "        )\n",
        "    df2[i] = pd.to_datetime(\n",
        "        df1[i], format='%Y-%m-%d %H:%M:%S.%f'\n",
        "        )"
      ],
      "metadata": {
        "id": "rnk4ITWuhUbS"
      },
      "execution_count": null,
      "outputs": []
    },
    {
      "cell_type": "markdown",
      "source": [
        "### Пропуски и дубликаты"
      ],
      "metadata": {
        "id": "5m5JEr82EdhI"
      }
    },
    {
      "cell_type": "code",
      "source": [
        "# Замена текстовых nan на фактические Nan значения в df1\n",
        "cols = ['contact_social', 'description', 'email', 'phone', 'website']\n",
        "df1[cols] = df1[cols].replace('nan', np.NaN)"
      ],
      "metadata": {
        "id": "NdAtJtlOPTgC"
      },
      "execution_count": null,
      "outputs": []
    },
    {
      "cell_type": "code",
      "source": [
        "df1.isna().sum()"
      ],
      "metadata": {
        "id": "ZdAzFDYqLDM5"
      },
      "execution_count": null,
      "outputs": []
    },
    {
      "cell_type": "code",
      "source": [
        "df2.isna().sum()"
      ],
      "metadata": {
        "id": "cGPlTHc9LRpA"
      },
      "execution_count": null,
      "outputs": []
    },
    {
      "cell_type": "markdown",
      "source": [
        "Обе таблицы содержат пропуски значений."
      ],
      "metadata": {
        "id": "lq4N6r7cRnlC"
      }
    },
    {
      "cell_type": "markdown",
      "source": [
        "Посмотрим, есть ли дубликаты значений в столбце `uid`, который содержит уникальный индентификатор гостиницы."
      ],
      "metadata": {
        "id": "6JbvrxtVQwvH"
      }
    },
    {
      "cell_type": "code",
      "source": [
        "df1['uid'].duplicated().sum()"
      ],
      "metadata": {
        "id": "TrDpE3XpQbGi"
      },
      "execution_count": null,
      "outputs": []
    },
    {
      "cell_type": "code",
      "source": [
        "df2['uid'].duplicated().sum()"
      ],
      "metadata": {
        "id": "8xOBExETQ37U"
      },
      "execution_count": null,
      "outputs": []
    },
    {
      "cell_type": "markdown",
      "source": [
        "Во второй таблице много повторяющихся строк."
      ],
      "metadata": {
        "id": "qNzUQ4yHRKps"
      }
    },
    {
      "cell_type": "markdown",
      "source": [
        "### Очистка данных"
      ],
      "metadata": {
        "id": "Yzj43wjKawgA"
      }
    },
    {
      "cell_type": "markdown",
      "source": [
        "#### 1. Столбец hotel_type_original\n"
      ],
      "metadata": {
        "id": "uAUNMXVsa0i0"
      }
    },
    {
      "cell_type": "code",
      "source": [
        "df1['hotel_type_original'].value_counts()"
      ],
      "metadata": {
        "id": "grE0i_nka3-f"
      },
      "execution_count": null,
      "outputs": []
    },
    {
      "cell_type": "code",
      "source": [
        "df2['hotel_type_original'].value_counts()"
      ],
      "metadata": {
        "id": "B1fnKVhGa-Nc"
      },
      "execution_count": null,
      "outputs": []
    },
    {
      "cell_type": "markdown",
      "source": [
        "В двух системах по-разному кодируются типы отелей."
      ],
      "metadata": {
        "id": "C7PDZ3Tlcmkl"
      }
    },
    {
      "cell_type": "markdown",
      "source": [
        "#### 2. Столбец city"
      ],
      "metadata": {
        "id": "XjXRZYgmc9ke"
      }
    },
    {
      "cell_type": "code",
      "source": [
        "df1['city'].unique()"
      ],
      "metadata": {
        "id": "jPHWouCXdDJb"
      },
      "execution_count": null,
      "outputs": []
    },
    {
      "cell_type": "code",
      "source": [
        "df2['city'].unique()"
      ],
      "metadata": {
        "id": "ID3j0knvdERn"
      },
      "execution_count": null,
      "outputs": []
    },
    {
      "cell_type": "markdown",
      "source": [
        "В данном случае важно перевести названия на русский язык."
      ],
      "metadata": {
        "id": "iG_U3CV5evcp"
      }
    },
    {
      "cell_type": "code",
      "source": [
        "city_dict = {\n",
        "    'ufa': 'Уфа',\n",
        "    'magnitogorsk': 'Магнитогорск',\n",
        "    'sterlitamak': 'Стерлитамак',\n",
        "    'salavat': 'Салават',\n",
        "    'neftekamsk': 'Нефтекамск',\n",
        "    'oktyabrskiy': 'Октябрьский',\n",
        "    'beloretsk': 'Белорецк',\n",
        "    'izhevsk': 'Ижевск',\n",
        "    'kumertau': 'Кумертау'\n",
        "}\n",
        "df2['city'] = df2['city'].map(city_dict)"
      ],
      "metadata": {
        "id": "sdSgBlvafl2h"
      },
      "execution_count": null,
      "outputs": []
    },
    {
      "cell_type": "markdown",
      "source": [
        "#### 3. Столбец address"
      ],
      "metadata": {
        "id": "G6MF81bNhaFt"
      }
    },
    {
      "cell_type": "code",
      "source": [
        "df1['address'].sample(10).tolist()"
      ],
      "metadata": {
        "id": "kR_LzkZLnZLN"
      },
      "execution_count": null,
      "outputs": []
    },
    {
      "cell_type": "code",
      "source": [
        "df2['address'].sample(10).tolist()"
      ],
      "metadata": {
        "id": "AVyx80jMh_A-"
      },
      "execution_count": null,
      "outputs": []
    },
    {
      "cell_type": "markdown",
      "source": [
        "Замечены следующие особенности:\n",
        "\n",
        "1. В первом датафрейме часть информации написана на английском языке, город указан последним и всегда на русском, имеются технические символы \"\\xa0\";\n",
        "2. Во втором датафрейме также имеются технические символы \"\\xa0\"."
      ],
      "metadata": {
        "id": "sH1fNKO2h7wt"
      }
    },
    {
      "cell_type": "markdown",
      "source": [
        "Удалим страну, регион, городской округ и город из df2, и значение города из df1 (на последнем месте)."
      ],
      "metadata": {
        "id": "6rxSZrB5q3Iu"
      }
    },
    {
      "cell_type": "code",
      "source": [
        "df1['address'] = df1['address'].str.rsplit(',', n=1).str[0]\n",
        "df2['address'] = df2['address'].apply(lambda x: ', '.join(x.split(', ')[4:]) if isinstance(x, str) else x[4:])\n",
        "\n",
        "# Удаление лишних пробелов в начале и в конце строки\n",
        "df2['address'] = df2['address'].str.strip()"
      ],
      "metadata": {
        "id": "Ns4pZtIQr5Vw"
      },
      "execution_count": null,
      "outputs": []
    },
    {
      "cell_type": "code",
      "source": [
        "df1['address'].sample(10).tolist()"
      ],
      "metadata": {
        "id": "0EmhkczU1jpQ"
      },
      "execution_count": null,
      "outputs": []
    },
    {
      "cell_type": "code",
      "source": [
        "df2['address'].sample(10).tolist()"
      ],
      "metadata": {
        "id": "4nEQLxhX2slN"
      },
      "execution_count": null,
      "outputs": []
    },
    {
      "cell_type": "markdown",
      "source": [
        "Удалим технические символы, заменив их на пробелы."
      ],
      "metadata": {
        "id": "3scGpU76-AZR"
      }
    },
    {
      "cell_type": "code",
      "source": [
        "df1['address'] = df1['address'].str.replace('\\xa0', ' ')\n",
        "df2['address'] = df2['address'].str.replace('\\xa0', ' ')"
      ],
      "metadata": {
        "id": "HUoTPTPc-FYQ"
      },
      "execution_count": null,
      "outputs": []
    },
    {
      "cell_type": "markdown",
      "source": [
        "Для второго датафрейма можно восстановить пропущенные значения города через адрес."
      ],
      "metadata": {
        "id": "hmzsn-5ZhfgB"
      }
    },
    {
      "cell_type": "code",
      "source": [
        "# Создание столбца с населенным пунктом, который получен из адреса\n",
        "df2['city_gen'] = df2['address'].str.split(',').str[3].replace('', np.NaN)"
      ],
      "metadata": {
        "id": "pasY-IJ4_kHV"
      },
      "execution_count": null,
      "outputs": []
    },
    {
      "cell_type": "code",
      "source": [
        "# Заполнение пропусков в столбце город\n",
        "df2.loc[df2['city'].isna(), 'city'] = df2.loc[df2['city'].isna(), 'city_gen']"
      ],
      "metadata": {
        "id": "COpFjDo3A1iA"
      },
      "execution_count": null,
      "outputs": []
    },
    {
      "cell_type": "code",
      "source": [
        "# Удаление лишних пробелов в начале и в конце строки\n",
        "df2['city'] = df2['city'].str.strip()\n",
        "df2['city_gen'] = df2['city_gen'].str.strip()"
      ],
      "metadata": {
        "id": "Fg0rurLtFhRM"
      },
      "execution_count": null,
      "outputs": []
    },
    {
      "cell_type": "markdown",
      "source": [
        "Посмотрим, сколько городов удалось таким образом восстановить."
      ],
      "metadata": {
        "id": "M08Tk-UdGlff"
      }
    },
    {
      "cell_type": "code",
      "source": [
        "print(\"Количество оставшихся пропусков в столбце city:\",\n",
        "      df2['city'].isna().sum())"
      ],
      "metadata": {
        "id": "0ZwDKRKXGmvw"
      },
      "execution_count": null,
      "outputs": []
    },
    {
      "cell_type": "markdown",
      "source": [
        "Из 1145 осталось 150 пропусков."
      ],
      "metadata": {
        "id": "Xa5OLcKeHc3C"
      }
    },
    {
      "cell_type": "code",
      "source": [
        "# Удаление технического столбца с городом\n",
        "df2 = df2.drop('city_gen', axis=1)"
      ],
      "metadata": {
        "id": "OmOK4mouTCZg"
      },
      "execution_count": null,
      "outputs": []
    },
    {
      "cell_type": "markdown",
      "source": [
        "#### 4. Столбцы rating, rating_5"
      ],
      "metadata": {
        "id": "QN0fS3T0HsBR"
      }
    },
    {
      "cell_type": "code",
      "source": [
        "df1['rating'].describe()"
      ],
      "metadata": {
        "id": "IlP-jWIFILtX"
      },
      "execution_count": null,
      "outputs": []
    },
    {
      "cell_type": "code",
      "source": [
        "df2['rating'].describe()"
      ],
      "metadata": {
        "id": "uO94ZAihIQdg"
      },
      "execution_count": null,
      "outputs": []
    },
    {
      "cell_type": "code",
      "source": [
        "df1['rating_5'].describe()"
      ],
      "metadata": {
        "id": "dTTXLp5IIkyI"
      },
      "execution_count": null,
      "outputs": []
    },
    {
      "cell_type": "code",
      "source": [
        "df2['rating_5'].describe()"
      ],
      "metadata": {
        "id": "h16K1me_ImEV"
      },
      "execution_count": null,
      "outputs": []
    },
    {
      "cell_type": "markdown",
      "source": [
        "Очевидно, что между датафреймами он отличается по категориям (5 или 10 баллов максимум). Для решения уже есть столбец rating_5."
      ],
      "metadata": {
        "id": "frJUcFZpIeOf"
      }
    },
    {
      "cell_type": "markdown",
      "source": [
        "#### 5. Столбец review_count"
      ],
      "metadata": {
        "id": "mhCwKHtdI1Ky"
      }
    },
    {
      "cell_type": "code",
      "source": [
        "df1['review_count'].describe()"
      ],
      "metadata": {
        "id": "b1uK7UUAI5YQ"
      },
      "execution_count": null,
      "outputs": []
    },
    {
      "cell_type": "code",
      "source": [
        "df2['review_count'].describe()"
      ],
      "metadata": {
        "id": "y2YE4_S1JVBW"
      },
      "execution_count": null,
      "outputs": []
    },
    {
      "cell_type": "markdown",
      "source": [
        "#### Столбец region"
      ],
      "metadata": {
        "id": "QzT8uhNSRy6c"
      }
    },
    {
      "cell_type": "code",
      "source": [
        "df1['region'].value_counts()"
      ],
      "metadata": {
        "id": "p6P2Rh54Jqh6"
      },
      "execution_count": null,
      "outputs": []
    },
    {
      "cell_type": "code",
      "source": [
        "df2['region'].value_counts()"
      ],
      "metadata": {
        "id": "LbrwrLGKJtKR"
      },
      "execution_count": null,
      "outputs": []
    },
    {
      "cell_type": "markdown",
      "source": [
        "Все данные по Республике Башкортостан. Однако, выше в списке городов первого датафрейма были \"Зеленоградск\", \"Калининград\", \"Светлогорск\", \"Балтийск\", \"Янтарный\". Очевидно, что это ошибка. Определим такие отели и заменим в них номер региона."
      ],
      "metadata": {
        "id": "yE80AFGIJ9u7"
      }
    },
    {
      "cell_type": "code",
      "source": [
        "# Координаты Москвы\n",
        "moscow_longitude = 37.6176\n",
        "\n",
        "# Если западнее, то сменить регион на 39\n",
        "df1['region'] = np.where(df1['lon'] < moscow_longitude, 39, df1['region'])"
      ],
      "metadata": {
        "id": "c1t8DccIxu6E"
      },
      "execution_count": null,
      "outputs": []
    },
    {
      "cell_type": "code",
      "source": [
        "df1['region'].value_counts()"
      ],
      "metadata": {
        "id": "tE0hQy5OyDQl"
      },
      "execution_count": null,
      "outputs": []
    },
    {
      "cell_type": "markdown",
      "source": [
        "#### 6. Столбец star_rating"
      ],
      "metadata": {
        "id": "jevlI2b9NfXT"
      }
    },
    {
      "cell_type": "code",
      "source": [
        "df1['star_rating'].describe()"
      ],
      "metadata": {
        "id": "M-70OMkaNi6N"
      },
      "execution_count": null,
      "outputs": []
    },
    {
      "cell_type": "code",
      "source": [
        "df2['star_rating'].describe()"
      ],
      "metadata": {
        "id": "YS0Yy5zJNocv"
      },
      "execution_count": null,
      "outputs": []
    },
    {
      "cell_type": "markdown",
      "source": [
        "В случае со вторым датафреймом количество звезд не превышает 4."
      ],
      "metadata": {
        "id": "pY3E2zk9OB0L"
      }
    },
    {
      "cell_type": "markdown",
      "source": [
        "#### 7. Столбец rooms_count"
      ],
      "metadata": {
        "id": "TxtgvFqDORDr"
      }
    },
    {
      "cell_type": "code",
      "source": [
        "df1['rooms_count'].describe()"
      ],
      "metadata": {
        "id": "4SZ6khT1OTn6"
      },
      "execution_count": null,
      "outputs": []
    },
    {
      "cell_type": "code",
      "source": [
        "df2['rooms_count'].describe()"
      ],
      "metadata": {
        "id": "llvKmRwJOVrZ"
      },
      "execution_count": null,
      "outputs": []
    },
    {
      "cell_type": "markdown",
      "source": [
        "#### Столбец contact_social"
      ],
      "metadata": {
        "id": "VSo6L-T9OvSi"
      }
    },
    {
      "cell_type": "markdown",
      "source": [
        "В первом датафрейме данных по столбцу нет, поэтому распарсим второй датафрейм."
      ],
      "metadata": {
        "id": "96DiHCE3S6PF"
      }
    },
    {
      "cell_type": "code",
      "source": [
        "def extract_https(s):\n",
        "    try:\n",
        "        contacts = json.loads(s)\n",
        "        return ', '.join([contact['contact'] for contact in contacts])\n",
        "    except:\n",
        "        return np.NaN"
      ],
      "metadata": {
        "id": "Yg9-qX_ZUgQt"
      },
      "execution_count": null,
      "outputs": []
    },
    {
      "cell_type": "code",
      "source": [
        "df2['contact_social'] = df2['contact_social'].apply(extract_https)"
      ],
      "metadata": {
        "id": "81K5H_cuUkvB"
      },
      "execution_count": null,
      "outputs": []
    },
    {
      "cell_type": "markdown",
      "source": [
        "### Заполнение значений"
      ],
      "metadata": {
        "id": "Pgv65Jc1RRSi"
      }
    },
    {
      "cell_type": "markdown",
      "source": [
        "По заданию необходимо максимально заполнить данные на основании имеющихся. Воспользуемся методом `ffill` из функции `fillna()`, а затем отбросим все строки, кроме последних."
      ],
      "metadata": {
        "id": "CtRVTKHQWCSd"
      }
    },
    {
      "cell_type": "code",
      "source": [
        "# Сортировка по дате\n",
        "df1 = df1.sort_values('parsing_time')\n",
        "df2 = df2.sort_values('parsing_time')\n",
        "\n",
        "# Заполнение пропущенных значений последним известным значением в каждой группе\n",
        "df1 = (\n",
        "    df1\n",
        "    .groupby('uid', group_keys=True)\n",
        "    .apply(lambda group: group.fillna(method='ffill'))\n",
        "    .reset_index(drop=True)\n",
        ")\n",
        "df2 = (\n",
        "    df2\n",
        "    .groupby('uid', group_keys=True)\n",
        "    .apply(lambda group: group.fillna(method='ffill'))\n",
        "    .reset_index(drop=True)\n",
        ")\n",
        "\n",
        "# Сохранение только последнего значения из группы\n",
        "df1 = df1.drop_duplicates(subset='uid', keep='last')\n",
        "df2 = df2.drop_duplicates(subset='uid', keep='last')"
      ],
      "metadata": {
        "id": "DGenIkyZLTVB"
      },
      "execution_count": null,
      "outputs": []
    },
    {
      "cell_type": "code",
      "source": [
        "df1['uid'].nunique()"
      ],
      "metadata": {
        "id": "tIJ23yCKodWP"
      },
      "execution_count": null,
      "outputs": []
    },
    {
      "cell_type": "code",
      "source": [
        "df2['uid'].nunique()"
      ],
      "metadata": {
        "id": "O0Q06_gjogbW"
      },
      "execution_count": null,
      "outputs": []
    },
    {
      "cell_type": "markdown",
      "source": [
        "### Столбцы email, phone, website"
      ],
      "metadata": {
        "id": "77DDagiEOfsC"
      }
    },
    {
      "cell_type": "markdown",
      "source": [
        "По заданию поля телефона, email, сайтов необходимо распарсить и сохранить как списки в одинаковом формате. Опять же обратимся только ко второму датафрейму."
      ],
      "metadata": {
        "id": "WsCcPkpXYNKt"
      }
    },
    {
      "cell_type": "code",
      "source": [
        "df2[~df2['email'].isna()]['email'].sample(15)"
      ],
      "metadata": {
        "id": "JqNRUfhTYTQm"
      },
      "execution_count": null,
      "outputs": []
    },
    {
      "cell_type": "code",
      "source": [
        "df2['phone'].sample(15)"
      ],
      "metadata": {
        "id": "pJ1etP__aU9m"
      },
      "execution_count": null,
      "outputs": []
    },
    {
      "cell_type": "code",
      "source": [
        "df2['website'].sample(15)"
      ],
      "metadata": {
        "id": "7Cr-Rj2tb82-"
      },
      "execution_count": null,
      "outputs": []
    },
    {
      "cell_type": "markdown",
      "source": [
        "Email уже имеют единообразный вид, в отличие от двух других столбцов."
      ],
      "metadata": {
        "id": "msdVhW-daxcJ"
      }
    },
    {
      "cell_type": "markdown",
      "source": [
        "Начнем с номера телефона."
      ],
      "metadata": {
        "id": "iwmy2KmWaSUq"
      }
    },
    {
      "cell_type": "code",
      "source": [
        "def correct_phone_num(s):\n",
        "\n",
        "    if pd.notna(s):\n",
        "        # Удаляет '+'\n",
        "        s = s.replace('+', '')\n",
        "        # Разделяет номера, если их больше двух в ряд\n",
        "        numbers = s.split(',')\n",
        "        modified_numbers = []\n",
        "        for number in numbers:\n",
        "            # Удаляет пробелы\n",
        "            number = number.strip()\n",
        "            # Проверяет размер номера и первую цифру\n",
        "            if len(number) == 11 and number.startswith('8'):\n",
        "                number = '7' + number[1:]\n",
        "            modified_numbers.append(number)\n",
        "        return ', '.join(modified_numbers)\n",
        "    else:\n",
        "      return s\n",
        "\n",
        "df2['phone'] = df2['phone'].apply(correct_phone_num)\n"
      ],
      "metadata": {
        "id": "C6As9PHkcFNn"
      },
      "execution_count": null,
      "outputs": []
    },
    {
      "cell_type": "code",
      "source": [
        "df2['phone']"
      ],
      "metadata": {
        "id": "DHsOulROd46r"
      },
      "execution_count": null,
      "outputs": []
    },
    {
      "cell_type": "markdown",
      "source": [
        "Теперь обработаем сайты."
      ],
      "metadata": {
        "id": "kMlDt2y3d-uf"
      }
    },
    {
      "cell_type": "code",
      "source": [
        "def extract_domain(domain):\n",
        "    try:\n",
        "        parts = domain.split('.')\n",
        "        domains = parts[-1]\n",
        "        return domains\n",
        "    except:\n",
        "        return ''\n",
        "\n",
        "df2['domain'] = df2['website'].apply(extract_domain)"
      ],
      "metadata": {
        "id": "q3jmVgKZeC-A"
      },
      "execution_count": null,
      "outputs": []
    },
    {
      "cell_type": "code",
      "source": [
        "df2['domain'].value_counts()"
      ],
      "metadata": {
        "id": "BFJyBSwofApf"
      },
      "execution_count": null,
      "outputs": []
    },
    {
      "cell_type": "code",
      "source": [
        "df2[df2['domain'] == 'link'][['contact_social', 'website', 'domain']].head()"
      ],
      "metadata": {
        "id": "fIvhFRm8f_dX"
      },
      "execution_count": null,
      "outputs": []
    },
    {
      "cell_type": "markdown",
      "source": [
        "По списку доменов видно, что есть просто текст - его будем удалять, а есть подразделы сайта. Также ссылки вроде vk.link стоит удалить из столбца сайтов."
      ],
      "metadata": {
        "id": "m1deDUjDhbEH"
      }
    },
    {
      "cell_type": "code",
      "source": [
        "df2.loc[df2['website'] == 'vk.link', 'website'] = np.NaN"
      ],
      "metadata": {
        "id": "TYBYd5kZkpJk"
      },
      "execution_count": null,
      "outputs": []
    },
    {
      "cell_type": "code",
      "source": [
        "allowed_domains = ['.ru', '.рф', '.com', '.biz', '.site', '.su', '.camp', '.cc', '.ws', '.club', '.net', '.camp']\n",
        "\n",
        "def extract_domain(url):\n",
        "    try:\n",
        "        url = url.replace('http://', '').replace('https://', '')\n",
        "        # Делит домен на части\n",
        "        domain, _, _ = url.partition('/')\n",
        "        # Удаляет 'www.'\n",
        "        if domain.startswith('www.'):\n",
        "            domain = domain[4:]\n",
        "        # Проверяет, находится ли домен верхнего уровня среди разрешенных\n",
        "        top_level = '.' + domain.split('.')[-1]\n",
        "        if top_level not in allowed_domains:\n",
        "            return np.NaN\n",
        "        return domain\n",
        "    except:\n",
        "        return np.NaN\n",
        "\n",
        "# Apply the function to your column\n",
        "df2['website'] = df2['website'].apply(extract_domain)\n"
      ],
      "metadata": {
        "id": "rwKyTEnnh0_B"
      },
      "execution_count": null,
      "outputs": []
    },
    {
      "cell_type": "code",
      "source": [
        "df2['website'].value_counts().head(50)"
      ],
      "metadata": {
        "id": "36t9LAKPi1vW"
      },
      "execution_count": null,
      "outputs": []
    },
    {
      "cell_type": "markdown",
      "source": [
        "Теперь можно создать список с email, номером телефона и адресом сайта. Создадим два списка: где есть хотя бы один элемент, и где есть сразу все три."
      ],
      "metadata": {
        "id": "WPLf0AD4fBLN"
      }
    },
    {
      "cell_type": "code",
      "source": [
        "contacts = df2[['email', 'phone', 'website']]\n",
        "contacts = contacts.dropna(how='all')\n",
        "contacts_list = contacts.values\n"
      ],
      "metadata": {
        "id": "7wIZNvSRljkU"
      },
      "execution_count": null,
      "outputs": []
    },
    {
      "cell_type": "code",
      "source": [
        "contacts = df2[['email', 'phone', 'website']]\n",
        "contacts = contacts.dropna(how='any')\n",
        "contacts_list_full = contacts.values"
      ],
      "metadata": {
        "id": "PffmDbQmmsc9"
      },
      "execution_count": null,
      "outputs": []
    },
    {
      "cell_type": "markdown",
      "source": [
        "### Топ-10 по каждой платформе"
      ],
      "metadata": {
        "id": "MN0TEUMJeiHA"
      }
    },
    {
      "cell_type": "markdown",
      "source": [
        "Выведем топ 10 по каждой платформе, по параметрам:\n",
        "\n",
        "  - больше всего телефонов;\n",
        "  - больше всего отзывов."
      ],
      "metadata": {
        "id": "PuX0bG5veo3E"
      }
    },
    {
      "cell_type": "markdown",
      "source": [
        "1. В случае с первой платформой телефонов, как и других данных о контактах, не оказалось. Далее будут отображены топ-10 для второй платформы."
      ],
      "metadata": {
        "id": "jx7QycPDgvPW"
      }
    },
    {
      "cell_type": "code",
      "source": [
        "# Подсчет количества телефонов в строке\n",
        "df2['phone_count'] = df2[df2['phone'].notna()]['phone'].str.split(',').apply(len)\n",
        "\n",
        "df2_sorted = df2.sort_values('phone_count', ascending=False)\n",
        "df2_sorted.head(10)\n"
      ],
      "metadata": {
        "id": "aK92pRoHe1QG"
      },
      "execution_count": null,
      "outputs": []
    },
    {
      "cell_type": "markdown",
      "source": [
        "В топ-10 попали отели с 3-6 номерами."
      ],
      "metadata": {
        "id": "b-A9Nl62nPqH"
      }
    },
    {
      "cell_type": "markdown",
      "source": [
        "2. Топ-10 по количеству отзывов для двух платформ."
      ],
      "metadata": {
        "id": "eK1HRh_7i5LY"
      }
    },
    {
      "cell_type": "code",
      "source": [
        "df1_sorted = df1.sort_values('review_count', ascending=False)\n",
        "df2_sorted = df2.sort_values('review_count', ascending=False)"
      ],
      "metadata": {
        "id": "JBPBpdm3jD9m"
      },
      "execution_count": null,
      "outputs": []
    },
    {
      "cell_type": "code",
      "source": [
        "df1_sorted.head(10)"
      ],
      "metadata": {
        "id": "4mRbTAOOjNTj"
      },
      "execution_count": null,
      "outputs": []
    },
    {
      "cell_type": "code",
      "source": [
        "df2_sorted.head(10)"
      ],
      "metadata": {
        "id": "eN7z7xzLjUqg"
      },
      "execution_count": null,
      "outputs": []
    },
    {
      "cell_type": "code",
      "source": [
        "platform1 = df1_sorted['review_count'].head(10).tolist()\n",
        "platform2 = df2_sorted['review_count'].head(10).tolist()\n",
        "index = [1, 2, 3, 4, 5, 6, 7, 8, 9, 10]\n",
        "df_top = pd.DataFrame({'Платформа 1': platform1,\n",
        "                       'Платформа 2': platform2}, index=index)\n",
        "ax = df_top.plot.bar(rot=0)"
      ],
      "metadata": {
        "id": "18wt9FgMj3f-"
      },
      "execution_count": null,
      "outputs": []
    },
    {
      "cell_type": "markdown",
      "source": [
        "На графике видно, что в топ-10 первое место досталось первой платформе."
      ],
      "metadata": {
        "id": "XxcUBmO0kxiT"
      }
    },
    {
      "cell_type": "markdown",
      "source": [
        "### Квадрат с наибольшим количеством гостиниц"
      ],
      "metadata": {
        "id": "ovHG4gnmlEto"
      }
    },
    {
      "cell_type": "markdown",
      "source": [
        "Посмотрим на карту гостиниц."
      ],
      "metadata": {
        "id": "6WtY6kMHwfTU"
      }
    },
    {
      "cell_type": "code",
      "source": [
        "fig = go.Figure(go.Densitymapbox(lat=df1['lat'], lon=df1['lon'],\n",
        "                                 radius=10))\n",
        "fig.update_layout(mapbox_style=\"carto-darkmatter\")\n",
        "fig.update_layout(margin={\"r\":0,\"t\":0,\"l\":0,\"b\":0})\n",
        "fig.show()"
      ],
      "metadata": {
        "id": "CHmG-mJNt_5V"
      },
      "execution_count": null,
      "outputs": []
    },
    {
      "cell_type": "code",
      "source": [
        "fig = go.Figure(go.Densitymapbox(lat=df2['lat'], lon=df2['lon'],\n",
        "                                 radius=10))\n",
        "fig.update_layout(mapbox_style=\"carto-darkmatter\")\n",
        "fig.update_layout(margin={\"r\":0,\"t\":0,\"l\":0,\"b\":0})\n",
        "fig.show()"
      ],
      "metadata": {
        "id": "r4mB3dFjwnbS"
      },
      "execution_count": null,
      "outputs": []
    },
    {
      "cell_type": "markdown",
      "source": [
        "Очевидно, что на первой платформе есть гостиницы, которые находятся за пределами Республики Башкортостан, в отличие от второй платформы. В целом, Уфа и Калининград соперничают за первое место в категории плотности отелей на квадратный километр."
      ],
      "metadata": {
        "id": "B8uzS0OOwj8v"
      }
    },
    {
      "cell_type": "markdown",
      "source": [
        "### Объединение таблиц"
      ],
      "metadata": {
        "id": "ZI_9tgyhTkQ_"
      }
    },
    {
      "cell_type": "markdown",
      "source": [
        "Объединение таблиц без id - непростая задача. Попробуем использовать геолокацию как точку отсчета."
      ],
      "metadata": {
        "id": "vcydOzq0UFTE"
      }
    },
    {
      "cell_type": "markdown",
      "source": [
        "1. Выведем все гостиницы, которые есть в платформе 1 и нет в платформе 2."
      ],
      "metadata": {
        "id": "m-nLbxRp6KGa"
      }
    },
    {
      "cell_type": "code",
      "source": [
        "df3 = df1.merge(df2, on=['lat', 'lon'], how='left')"
      ],
      "metadata": {
        "id": "H0wqlE6dMjAl"
      },
      "execution_count": null,
      "outputs": []
    },
    {
      "cell_type": "code",
      "source": [
        "df3[['lat', 'lon']].duplicated().sum()"
      ],
      "metadata": {
        "id": "vndI0-OY6rrM"
      },
      "execution_count": null,
      "outputs": []
    },
    {
      "cell_type": "code",
      "source": [
        "df3 = df3.drop_duplicates(subset=['lat', 'lon'])"
      ],
      "metadata": {
        "id": "Do_VzJLS7fPM"
      },
      "execution_count": null,
      "outputs": []
    },
    {
      "cell_type": "code",
      "source": [
        "df3"
      ],
      "metadata": {
        "id": "CcwINkre7sJ6"
      },
      "execution_count": null,
      "outputs": []
    },
    {
      "cell_type": "markdown",
      "source": [
        "2. Выдем топ 10 гостиниц которые есть в обоих платформах, по суммарному количеству отзывов."
      ],
      "metadata": {
        "id": "By84OT4B6OiI"
      }
    },
    {
      "cell_type": "code",
      "source": [
        "df4 = df1.merge(df2, on=['lat', 'lon'], how='inner')\n",
        "df4"
      ],
      "metadata": {
        "id": "0s0WZiBa9oh5"
      },
      "execution_count": null,
      "outputs": []
    },
    {
      "cell_type": "markdown",
      "source": [
        "По геолокации общие отели найти не удалось."
      ],
      "metadata": {
        "id": "gDSvUyXh9the"
      }
    },
    {
      "cell_type": "markdown",
      "source": [
        "Объединение таблиц по названию, к сожалению, также дает неполную картину."
      ],
      "metadata": {
        "id": "E2l7KF9K_q_Q"
      }
    }
  ]
}